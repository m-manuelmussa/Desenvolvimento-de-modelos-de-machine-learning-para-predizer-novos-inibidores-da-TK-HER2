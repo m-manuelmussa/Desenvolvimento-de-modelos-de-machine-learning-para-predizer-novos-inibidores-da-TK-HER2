{
  "nbformat": 4,
  "nbformat_minor": 0,
  "metadata": {
    "colab": {
      "provenance": [],
      "authorship_tag": "ABX9TyM0kyoNKEysj33zgcyW7GEy",
      "include_colab_link": true
    },
    "kernelspec": {
      "name": "python3",
      "display_name": "Python 3"
    },
    "language_info": {
      "name": "python"
    }
  },
  "cells": [
    {
      "cell_type": "markdown",
      "metadata": {
        "id": "view-in-github",
        "colab_type": "text"
      },
      "source": [
        "<a href=\"https://colab.research.google.com/github/m-manuelmussa/Desenvolvimento-de-modelos-de-machine-learning-para-predizer-novos-inibidores-da-TK-HER2/blob/main/Desenvolvimento_de_modelos_de_machine_learning_baseados_em_QSAR_3D_para_a_predi%C3%A7%C3%A3o_de_novos_candidatos_a_f%C3%A1rmacos_TKI_HER2_para_o_tratamento_de_c%C3%A2ncer_da_mama.ipynb\" target=\"_parent\"><img src=\"https://colab.research.google.com/assets/colab-badge.svg\" alt=\"Open In Colab\"/></a>"
      ]
    },
    {
      "cell_type": "markdown",
      "source": [
        "# ***Desenvolvimento de modelos de machine learning baseados em QSAR-3D para a predição de novos candidatos a fármacos TKI-HER2 para o tratamento de câncer da mama***\n",
        "\n",
        "---\n",
        "\n"
      ],
      "metadata": {
        "id": "0R_5-QYjK2AV"
      }
    },
    {
      "cell_type": "markdown",
      "source": [
        "# ***1. Preparo do banco de dados***"
      ],
      "metadata": {
        "id": "DJgzteUzOh8k"
      }
    },
    {
      "cell_type": "markdown",
      "source": [
        "# **Pipeline**\n",
        "1. Visualização do dataset total do ChEMBL database\n",
        "2. Selecção do dataset de compostos inibidores da TK-HER2\n",
        "3. Seleção dos compostos com dados de IC₅₀\n",
        "4. Limpeza dos dados (sem duplicatas, IC₅₀ e SMILES ausentes)\n",
        "5. Dataset final limpo e pronto para análise"
      ],
      "metadata": {
        "id": "zXQMjZP0PIe3"
      }
    },
    {
      "cell_type": "code",
      "execution_count": null,
      "metadata": {
        "id": "7H4mR7-55PiX"
      },
      "outputs": [],
      "source": []
    }
  ]
}