{
  "cells": [
    {
      "cell_type": "markdown",
      "metadata": {
        "id": "view-in-github",
        "colab_type": "text"
      },
      "source": [
        "<a href=\"https://colab.research.google.com/github/m-manuelmussa/Desenvolvimento-de-modelos-de-machine-learning-para-predizer-novos-inibidores-da-TK-HER2/blob/main/Desenvolvimento_de_modelos_de_machine_learning_baseados_em_QSAR_3D_para_a_predi%C3%A7%C3%A3o_de_novos_candidatos_a_f%C3%A1rmacos_TKI_HER2_para_o_tratamento_de_c%C3%A2ncer_da_mama.ipynb\" target=\"_parent\"><img src=\"https://colab.research.google.com/assets/colab-badge.svg\" alt=\"Open In Colab\"/></a>"
      ]
    },
    {
      "cell_type": "markdown",
      "metadata": {
        "id": "0R_5-QYjK2AV"
      },
      "source": [
        "# ***Desenvolvimento de modelos de machine learning baseados em QSAR-3D para a predição de novos candidatos a fármacos TKI-HER2 para o tratamento de câncer da mama***\n",
        "\n",
        "---\n",
        "\n"
      ]
    },
    {
      "cell_type": "markdown",
      "metadata": {
        "id": "DJgzteUzOh8k"
      },
      "source": [
        "# ***1. Preparo do banco de dados***"
      ]
    },
    {
      "cell_type": "markdown",
      "metadata": {
        "id": "zXQMjZP0PIe3"
      },
      "source": [
        "# **Pipeline**\n",
        "1. Configuração do ambiente de trabalho\n",
        "2. Selecção do dataset de compostos inibidores da TK-HER2\n",
        "3. Seleção dos compostos com dados de IC₅₀\n",
        "4. Limpeza dos dados (sem duplicatas, IC₅₀ e SMILES ausentes)\n",
        "5. Dataset final limpo e pronto para análise"
      ]
    },
    {
      "cell_type": "markdown",
      "metadata": {
        "id": "pKc8cg2eNVlg"
      },
      "source": [
        "### ***1. Configuração do ambiente de trabalho***"
      ]
    },
    {
      "cell_type": "code",
      "execution_count": null,
      "metadata": {
        "colab": {
          "base_uri": "https://localhost:8080/"
        },
        "id": "7H4mR7-55PiX",
        "outputId": "2289459c-d4da-44ba-bf24-ccfa4c91bbdb"
      },
      "outputs": [
        {
          "name": "stdout",
          "output_type": "stream",
          "text": [
            "Requirement already satisfied: chembl_webresource_client in /usr/local/lib/python3.11/dist-packages (0.10.9)\n",
            "Requirement already satisfied: urllib3 in /usr/local/lib/python3.11/dist-packages (from chembl_webresource_client) (2.4.0)\n",
            "Requirement already satisfied: requests>=2.18.4 in /usr/local/lib/python3.11/dist-packages (from chembl_webresource_client) (2.32.3)\n",
            "Requirement already satisfied: requests-cache~=1.2 in /usr/local/lib/python3.11/dist-packages (from chembl_webresource_client) (1.2.1)\n",
            "Requirement already satisfied: easydict in /usr/local/lib/python3.11/dist-packages (from chembl_webresource_client) (1.13)\n",
            "Requirement already satisfied: charset-normalizer<4,>=2 in /usr/local/lib/python3.11/dist-packages (from requests>=2.18.4->chembl_webresource_client) (3.4.2)\n",
            "Requirement already satisfied: idna<4,>=2.5 in /usr/local/lib/python3.11/dist-packages (from requests>=2.18.4->chembl_webresource_client) (3.10)\n",
            "Requirement already satisfied: certifi>=2017.4.17 in /usr/local/lib/python3.11/dist-packages (from requests>=2.18.4->chembl_webresource_client) (2025.7.14)\n",
            "Requirement already satisfied: attrs>=21.2 in /usr/local/lib/python3.11/dist-packages (from requests-cache~=1.2->chembl_webresource_client) (25.3.0)\n",
            "Requirement already satisfied: cattrs>=22.2 in /usr/local/lib/python3.11/dist-packages (from requests-cache~=1.2->chembl_webresource_client) (25.1.1)\n",
            "Requirement already satisfied: platformdirs>=2.5 in /usr/local/lib/python3.11/dist-packages (from requests-cache~=1.2->chembl_webresource_client) (4.3.8)\n",
            "Requirement already satisfied: url-normalize>=1.4 in /usr/local/lib/python3.11/dist-packages (from requests-cache~=1.2->chembl_webresource_client) (2.2.1)\n",
            "Requirement already satisfied: typing-extensions>=4.12.2 in /usr/local/lib/python3.11/dist-packages (from cattrs>=22.2->requests-cache~=1.2->chembl_webresource_client) (4.14.1)\n"
          ]
        }
      ],
      "source": [
        "#Instalação de frameworks necessários\n",
        "!pip install chembl_webresource_client"
      ]
    },
    {
      "cell_type": "code",
      "execution_count": null,
      "metadata": {
        "id": "VWUyn_SAXanV"
      },
      "outputs": [],
      "source": [
        "#Importação de frameworks necessários\n",
        "from chembl_webresource_client.new_client import new_client\n",
        "import pandas as pd"
      ]
    },
    {
      "cell_type": "markdown",
      "metadata": {
        "id": "QQ0pUIMxQ-wq"
      },
      "source": [
        "### ***2. Selecção do dataset de compostos inibidores da TK-HER2***"
      ]
    },
    {
      "cell_type": "code",
      "execution_count": null,
      "metadata": {
        "colab": {
          "base_uri": "https://localhost:8080/"
        },
        "id": "ZamuadnkXhLC",
        "outputId": "2139f28f-5fda-422f-bddf-b9bc21b3c899"
      },
      "outputs": [
        {
          "name": "stdout",
          "output_type": "stream",
          "text": [
            "DATASET INICIAL: 5577 COMPOSTOS\n"
          ]
        }
      ],
      "source": [
        "# 1. Seleção do alvo HER2 (tirosina-quinase)\n",
        "alvo_especifico = \"CHEMBL1824\"  # HER2/ERBB2\n",
        "\n",
        "# 2. Buscar atividades biológicas relacionadas ao alvo\n",
        "actividades = new_client.activity.filter(target_chembl_id=alvo_especifico).only(\n",
        "    [\"molecule_chembl_id\"]\n",
        ")\n",
        "\n",
        "# 3. Converter o QuerySet para lista antes de criar o DataFrame\n",
        "actividades_list = list(actividades)\n",
        "\n",
        "# 4. Criar DataFrame\n",
        "df = pd.DataFrame(actividades_list)\n",
        "\n",
        "# 5. Contar compostos únicos testados contra HER2\n",
        "total_compostos_unicos = df['molecule_chembl_id'].nunique()\n",
        "\n",
        "# 6. Exibir o resultado\n",
        "print(f\"DATASET INICIAL: {total_compostos_unicos} COMPOSTOS\")"
      ]
    },
    {
      "cell_type": "markdown",
      "metadata": {
        "id": "KaIAZ1-Qdyft"
      },
      "source": [
        "### ***3. Seleção dos compostos com dados de IC₅₀***"
      ]
    },
    {
      "cell_type": "code",
      "execution_count": null,
      "metadata": {
        "colab": {
          "base_uri": "https://localhost:8080/"
        },
        "id": "mOgD3zy4d4Wq",
        "outputId": "9292483f-f5a7-4424-9e80-6a204b3a158b"
      },
      "outputs": [
        {
          "name": "stdout",
          "output_type": "stream",
          "text": [
            "DATASET SELECCIONADO: 2729 COMPOSTOS\n"
          ]
        }
      ],
      "source": [
        "# 1. Buscar atividades com IC50 contra HER2\n",
        "atividades_ic50 = new_client.activity.filter(\n",
        "    target_chembl_id=alvo_especifico,\n",
        "    standard_type=\"IC50\"\n",
        ").only([\"molecule_chembl_id\", \"standard_value\"])\n",
        "\n",
        "# 2. Contar compostos únicos com IC50\n",
        "compostos_unicos = set()\n",
        "for atividade in atividades_ic50:\n",
        "    if atividade.get(\"standard_value\") is not None:\n",
        "        compostos_unicos.add(atividade[\"molecule_chembl_id\"])\n",
        "\n",
        "# 3. Exibir resultado\n",
        "print(f\"DATASET SELECCIONADO: {len(compostos_unicos)} COMPOSTOS\")"
      ]
    },
    {
      "cell_type": "markdown",
      "metadata": {
        "id": "f7lWv0YYj5Qr"
      },
      "source": [
        "### ***4. Limpeza dos dados (sem duplicatas, IC₅₀ e SMILES ausentes)***"
      ]
    },
    {
      "cell_type": "code",
      "execution_count": 31,
      "metadata": {
        "colab": {
          "base_uri": "https://localhost:8080/"
        },
        "id": "LfP1T4YOh1lC",
        "outputId": "c44598d9-4ca8-43be-deab-a59d124f7959"
      },
      "outputs": [
        {
          "output_type": "stream",
          "name": "stderr",
          "text": [
            "100%|██████████| 3228/3228 [00:05<00:00, 589.04it/s]\n"
          ]
        }
      ],
      "source": [
        "# 1. Transformar em lista e DataFrame\n",
        "atividades_list = list(atividades_ic50)\n",
        "df = pd.DataFrame(atividades_list)\n",
        "\n",
        "# 2. Remover dados sem IC50\n",
        "df = df.dropna(subset=[\"standard_value\"])\n",
        "df[\"IC50_nM\"] = df[\"standard_value\"].astype(float)\n",
        "\n",
        "# 3. Buscar os SMILES das moléculas\n",
        "from tqdm import tqdm  # barra de progresso\n",
        "tqdm.pandas()\n",
        "\n",
        "molecule = new_client.molecule\n",
        "\n",
        "def get_smiles(chembl_id):\n",
        "    try:\n",
        "        mol = molecule.get(chembl_id)\n",
        "        if mol.get(\"molecule_structures\"):\n",
        "            return mol[\"molecule_structures\"][\"canonical_smiles\"]\n",
        "    except:\n",
        "        return None\n",
        "\n",
        "# 4. Adicionar coluna de SMILES\n",
        "df[\"canonical_smiles\"] = df[\"molecule_chembl_id\"].progress_apply(get_smiles)\n",
        "\n",
        "# 5. Remover compostos sem SMILES ou IC50\n",
        "df_clean = df.dropna(subset=[\"canonical_smiles\", \"IC50_nM\"])\n",
        "\n",
        "# 6. Remover duplicatas por SMILES\n",
        "df_clean = df_clean.drop_duplicates(subset=\"canonical_smiles\")"
      ]
    },
    {
      "cell_type": "markdown",
      "metadata": {
        "id": "y3SXI6TVkDdT"
      },
      "source": [
        "### ***5. Dataset final limpo e pronto para análise***"
      ]
    },
    {
      "cell_type": "code",
      "execution_count": 32,
      "metadata": {
        "id": "yVbItzSikMTs",
        "colab": {
          "base_uri": "https://localhost:8080/"
        },
        "outputId": "f6f4a3ca-9844-4584-e174-b487ce4077ec"
      },
      "outputs": [
        {
          "output_type": "stream",
          "name": "stdout",
          "text": [
            "\n",
            "DATASET FINAL: 2725 COMPOSTOS\n"
          ]
        }
      ],
      "source": [
        "# 1. Resultado final\n",
        "df_clean.head()\n",
        "print(f\"\\nDATASET FINAL: {len(df_clean)} COMPOSTOS\")"
      ]
    },
    {
      "cell_type": "code",
      "execution_count": 33,
      "metadata": {
        "id": "Hvo6Em61kbIp",
        "colab": {
          "base_uri": "https://localhost:8080/"
        },
        "outputId": "354bcd4c-95cd-4b1c-af3f-ff704d06d588"
      },
      "outputs": [
        {
          "output_type": "stream",
          "name": "stdout",
          "text": [
            "Arquivo CSV salvo como 'HER2_compostos_IC50.csv'\n"
          ]
        }
      ],
      "source": [
        "# 2. Selecionar colunas desejadas e renomear\n",
        "df_export = df[[\"molecule_chembl_id\", \"canonical_smiles\", \"IC50_nM\"]].rename(columns={\n",
        "    \"molecule_chembl_id\": \"ChEMBL_ID\",\n",
        "    \"canonical_smiles\": \"SMILES\",\n",
        "    \"IC50_nM\": \"IC50_nM\"\n",
        "})\n",
        "\n",
        "# 3. Exportar para CSV com separador \";\"\n",
        "df_export.to_csv(\"HER2_compostos_IC50.csv\", sep=\";\", index=False)\n",
        "\n",
        "print(\"Arquivo CSV salvo como 'HER2_compostos_IC50.csv'\")\n"
      ]
    }
  ],
  "metadata": {
    "colab": {
      "provenance": [],
      "authorship_tag": "ABX9TyPj1gyuwUuIJK6ybqrGRYo0",
      "include_colab_link": true
    },
    "kernelspec": {
      "display_name": "Python 3",
      "name": "python3"
    },
    "language_info": {
      "name": "python"
    }
  },
  "nbformat": 4,
  "nbformat_minor": 0
}