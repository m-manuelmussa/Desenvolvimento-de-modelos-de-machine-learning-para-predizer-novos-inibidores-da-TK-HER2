{
  "cells": [
    {
      "cell_type": "markdown",
      "metadata": {
        "id": "view-in-github",
        "colab_type": "text"
      },
      "source": [
        "<a href=\"https://colab.research.google.com/github/m-manuelmussa/Desenvolvimento-de-modelos-de-machine-learning-para-predizer-novos-inibidores-da-TK-HER2/blob/main/2_Pr%C3%A9_processamento_de_dados_%26_C%C3%A1lculo_de_Features_de_Lipinski_%26_PubChemFP.ipynb\" target=\"_parent\"><img src=\"https://colab.research.google.com/assets/colab-badge.svg\" alt=\"Open In Colab\"/></a>"
      ]
    },
    {
      "cell_type": "markdown",
      "metadata": {
        "id": "kRSrwvfRljgE"
      },
      "source": [
        "# ***Desenvolvimento de modelos de machine learning baseados em QSAR-3D para a predição de novos candidatos a fármacos TKI-HER2 para o tratamento de câncer da mama***\n",
        "\n",
        "---\n",
        "\n"
      ]
    },
    {
      "cell_type": "markdown",
      "source": [
        "***Autor: Micliete_Mussa***"
      ],
      "metadata": {
        "id": "NecX5GcseiOp"
      }
    },
    {
      "cell_type": "markdown",
      "metadata": {
        "id": "LA1SctEnluzx"
      },
      "source": [
        "### ***2. Machine Learning & QSAR-3D***"
      ]
    },
    {
      "cell_type": "markdown",
      "metadata": {
        "id": "V-G-d_8ZmIqP"
      },
      "source": [
        "### ***2.1. Pré-processamento de dados***"
      ]
    },
    {
      "cell_type": "markdown",
      "metadata": {
        "id": "1peLVAZ0me4m"
      },
      "source": [
        "### **Pipeline**\n",
        "1. Configuração do ambiente de trabalho\n",
        "2. Carregamento dos dados em .csv\n",
        "3. Conversão de SMILES em Mol\n",
        "4. Remoção de sais\n",
        "5. Padronização de tautômeros\n",
        "6. Remoção de moléculas não Kekulizadas\n",
        "7. Remoção de duplicatas\n",
        "8. Conversão de IC50 em pIC50\n",
        "9. Binarização de pIC50 em activo/Inactivo"
      ]
    },
    {
      "cell_type": "markdown",
      "metadata": {
        "id": "2oKZVbV6rGhU"
      },
      "source": [
        "### ***1. Configuração do ambiente de trabalho***"
      ]
    },
    {
      "cell_type": "code",
      "execution_count": 1,
      "metadata": {
        "colab": {
          "base_uri": "https://localhost:8080/"
        },
        "id": "gZfKXnAokGMK",
        "outputId": "f5c8ebae-c791-46bc-b7e5-018a8163d7d5"
      },
      "outputs": [
        {
          "output_type": "stream",
          "name": "stdout",
          "text": [
            "Collecting rdkit\n",
            "  Downloading rdkit-2025.3.3-cp311-cp311-manylinux_2_28_x86_64.whl.metadata (4.0 kB)\n",
            "Requirement already satisfied: numpy in /usr/local/lib/python3.11/dist-packages (from rdkit) (2.0.2)\n",
            "Requirement already satisfied: Pillow in /usr/local/lib/python3.11/dist-packages (from rdkit) (11.3.0)\n",
            "Downloading rdkit-2025.3.3-cp311-cp311-manylinux_2_28_x86_64.whl (34.9 MB)\n",
            "\u001b[2K   \u001b[90m━━━━━━━━━━━━━━━━━━━━━━━━━━━━━━━━━━━━━━━━\u001b[0m \u001b[32m34.9/34.9 MB\u001b[0m \u001b[31m19.1 MB/s\u001b[0m eta \u001b[36m0:00:00\u001b[0m\n",
            "\u001b[?25hInstalling collected packages: rdkit\n",
            "Successfully installed rdkit-2025.3.3\n"
          ]
        }
      ],
      "source": [
        "#Instalação de frameworks necessários\n",
        "!pip install rdkit"
      ]
    },
    {
      "cell_type": "code",
      "execution_count": 3,
      "metadata": {
        "id": "biQgiGiMraXB"
      },
      "outputs": [],
      "source": [
        "#Instalação de frameworks necessários\n",
        "import pandas as pd\n",
        "import numpy as np\n",
        "from rdkit import Chem\n",
        "from rdkit.Chem import SaltRemover, MolStandardize\n",
        "from rdkit.Chem.MolStandardize import rdMolStandardize\n",
        "from rdkit.Chem import Descriptors, Lipinski, AllChem\n",
        "from rdkit.Chem import rdMolDescriptors\n",
        "from google.colab import files"
      ]
    },
    {
      "cell_type": "markdown",
      "metadata": {
        "id": "MJOzNZhqtHxB"
      },
      "source": [
        "### ***2. Carregamento dos dados em .csv***"
      ]
    },
    {
      "cell_type": "code",
      "execution_count": 5,
      "metadata": {
        "id": "X9Gmkl3rtILW"
      },
      "outputs": [],
      "source": [
        "df = pd.read_csv(\"Dataset_final.csv\", sep=\";\")  # Deve ter colunas 'SMILES' e 'IC50'"
      ]
    },
    {
      "cell_type": "markdown",
      "metadata": {
        "id": "CD9VFJU3tiNy"
      },
      "source": [
        "### ***3. Conversão de SMILES em Mol***"
      ]
    },
    {
      "cell_type": "code",
      "execution_count": 6,
      "metadata": {
        "id": "bHIpc3rFtkIx"
      },
      "outputs": [],
      "source": [
        "df['Mol'] = df['SMILES'].apply(lambda x: Chem.MolFromSmiles(x))\n",
        "df = df[df['Mol'].notnull()].reset_index(drop=True)"
      ]
    },
    {
      "cell_type": "markdown",
      "metadata": {
        "id": "Il-hhzNdt6_o"
      },
      "source": [
        "### ***4. Remoção de sais***"
      ]
    },
    {
      "cell_type": "code",
      "execution_count": 7,
      "metadata": {
        "id": "idKR6iyduART"
      },
      "outputs": [],
      "source": [
        "remover = SaltRemover.SaltRemover()\n",
        "def remover_sais(mol):\n",
        "    try:\n",
        "        mol = remover.StripMol(mol, dontRemoveEverything=True)\n",
        "        return mol\n",
        "    except:\n",
        "        return None\n",
        "df['Mol'] = df['Mol'].apply(remover_sais)\n",
        "df = df[df['Mol'].notnull()].reset_index(drop=True)"
      ]
    },
    {
      "cell_type": "markdown",
      "metadata": {
        "id": "KkEXtKPCufmO"
      },
      "source": [
        "### ***5. Padronização de tautômeros***"
      ]
    },
    {
      "cell_type": "code",
      "execution_count": 8,
      "metadata": {
        "colab": {
          "base_uri": "https://localhost:8080/"
        },
        "id": "8KwhISeduj_Z",
        "outputId": "d57b45d9-8bdd-4f17-9143-45dc5f3b3a58"
      },
      "outputs": [
        {
          "output_type": "stream",
          "name": "stderr",
          "text": [
            "[09:12:49] Tautomer enumeration stopped at 171 tautomers: max transforms reached\n",
            "[09:12:50] Tautomer enumeration stopped at 171 tautomers: max transforms reached\n",
            "[09:12:51] Tautomer enumeration stopped at 171 tautomers: max transforms reached\n",
            "[09:12:51] Tautomer enumeration stopped at 156 tautomers: max transforms reached\n",
            "[09:12:52] Tautomer enumeration stopped at 165 tautomers: max transforms reached\n",
            "[09:12:53] Tautomer enumeration stopped at 171 tautomers: max transforms reached\n",
            "[09:12:54] Tautomer enumeration stopped at 171 tautomers: max transforms reached\n",
            "[09:12:54] Tautomer enumeration stopped at 171 tautomers: max transforms reached\n",
            "[09:12:55] Tautomer enumeration stopped at 183 tautomers: max transforms reached\n",
            "[09:12:56] Tautomer enumeration stopped at 195 tautomers: max transforms reached\n",
            "[09:12:57] Tautomer enumeration stopped at 171 tautomers: max transforms reached\n",
            "[09:12:59] Tautomer enumeration stopped at 156 tautomers: max transforms reached\n",
            "[09:13:06] Can't kekulize mol.  Unkekulized atoms: 2 22\n",
            "[09:13:06] Can't kekulize mol.  Unkekulized atoms: 2 22\n",
            "[09:13:29] Tautomer enumeration stopped at 274 tautomers: max transforms reached\n",
            "[09:13:29] Tautomer enumeration stopped at 210 tautomers: max transforms reached\n",
            "[09:13:30] Tautomer enumeration stopped at 265 tautomers: max transforms reached\n",
            "[09:13:31] Tautomer enumeration stopped at 504 tautomers: max transforms reached\n",
            "[09:13:32] Tautomer enumeration stopped at 264 tautomers: max transforms reached\n",
            "[09:13:33] Tautomer enumeration stopped at 207 tautomers: max transforms reached\n",
            "[09:13:34] Tautomer enumeration stopped at 327 tautomers: max transforms reached\n",
            "[09:13:47] Tautomer enumeration stopped at 360 tautomers: max transforms reached\n",
            "[09:13:47] Can't kekulize mol.  Unkekulized atoms: 2 22\n",
            "[09:13:47] Can't kekulize mol.  Unkekulized atoms: 3 23\n",
            "[09:13:47] Can't kekulize mol.  Unkekulized atoms: 4 24\n",
            "[09:13:47] Can't kekulize mol.  Unkekulized atoms: 3 23\n",
            "[09:13:47] Can't kekulize mol.  Unkekulized atoms: 3 23\n",
            "[09:13:47] Can't kekulize mol.  Unkekulized atoms: 3 23\n",
            "[09:13:47] Can't kekulize mol.  Unkekulized atoms: 3 23\n",
            "[09:13:47] Can't kekulize mol.  Unkekulized atoms: 3 23\n",
            "[09:13:47] Can't kekulize mol.  Unkekulized atoms: 3 7\n",
            "[09:13:47] Can't kekulize mol.  Unkekulized atoms: 3 7\n",
            "[09:13:47] Can't kekulize mol.  Unkekulized atoms: 3 23\n",
            "[09:13:47] Can't kekulize mol.  Unkekulized atoms: 3 23\n",
            "[09:13:47] Can't kekulize mol.  Unkekulized atoms: 3 23\n",
            "[09:13:48] Can't kekulize mol.  Unkekulized atoms: 3 23\n",
            "[09:13:48] Can't kekulize mol.  Unkekulized atoms: 3 23\n",
            "[09:13:48] Can't kekulize mol.  Unkekulized atoms: 3 23\n",
            "[09:13:48] Can't kekulize mol.  Unkekulized atoms: 3 23\n",
            "[09:13:48] Can't kekulize mol.  Unkekulized atoms: 3 23\n",
            "[09:13:48] Can't kekulize mol.  Unkekulized atoms: 3 23\n",
            "[09:13:48] Can't kekulize mol.  Unkekulized atoms: 11 15\n",
            "[09:13:48] Can't kekulize mol.  Unkekulized atoms: 3 23\n",
            "[09:13:49] Can't kekulize mol.  Unkekulized atoms: 3 23\n",
            "[09:13:49] Can't kekulize mol.  Unkekulized atoms: 3 23\n",
            "[09:13:49] Can't kekulize mol.  Unkekulized atoms: 3 23\n",
            "[09:13:49] Can't kekulize mol.  Unkekulized atoms: 11 15\n",
            "[09:13:49] Can't kekulize mol.  Unkekulized atoms: 3 23\n",
            "[09:13:53] Tautomer enumeration stopped at 1000 tautomers: max tautomers reached\n",
            "[09:13:56] Can't kekulize mol.  Unkekulized atoms: 3 23\n",
            "[09:13:56] Can't kekulize mol.  Unkekulized atoms: 3 23\n",
            "[09:13:56] Can't kekulize mol.  Unkekulized atoms: 3 23\n",
            "[09:13:56] Can't kekulize mol.  Unkekulized atoms: 3 23\n",
            "[09:13:56] Can't kekulize mol.  Unkekulized atoms: 3 23\n",
            "[09:13:56] Can't kekulize mol.  Unkekulized atoms: 3 23\n",
            "[09:13:56] Can't kekulize mol.  Unkekulized atoms: 3 23\n",
            "[09:13:56] Can't kekulize mol.  Unkekulized atoms: 3 23\n",
            "[09:13:56] Can't kekulize mol.  Unkekulized atoms: 3 23\n",
            "[09:13:56] Can't kekulize mol.  Unkekulized atoms: 3 23\n",
            "[09:13:56] Can't kekulize mol.  Unkekulized atoms: 3 23\n",
            "[09:13:56] Can't kekulize mol.  Unkekulized atoms: 3 23\n",
            "[09:13:57] Can't kekulize mol.  Unkekulized atoms: 3 23\n",
            "[09:13:57] Can't kekulize mol.  Unkekulized atoms: 3 23\n",
            "[09:13:58] Tautomer enumeration stopped at 231 tautomers: max transforms reached\n",
            "[09:13:59] Tautomer enumeration stopped at 246 tautomers: max transforms reached\n",
            "[09:13:59] Tautomer enumeration stopped at 249 tautomers: max transforms reached\n",
            "[09:14:00] Tautomer enumeration stopped at 246 tautomers: max transforms reached\n",
            "[09:14:00] Tautomer enumeration stopped at 249 tautomers: max transforms reached\n",
            "[09:14:01] Tautomer enumeration stopped at 261 tautomers: max transforms reached\n",
            "[09:14:01] Tautomer enumeration stopped at 260 tautomers: max transforms reached\n",
            "[09:14:01] Tautomer enumeration stopped at 204 tautomers: max transforms reached\n",
            "[09:14:02] Tautomer enumeration stopped at 262 tautomers: max transforms reached\n",
            "[09:14:02] Tautomer enumeration stopped at 204 tautomers: max transforms reached\n",
            "[09:14:03] Tautomer enumeration stopped at 262 tautomers: max transforms reached\n",
            "[09:14:03] Tautomer enumeration stopped at 204 tautomers: max transforms reached\n",
            "[09:14:04] Tautomer enumeration stopped at 262 tautomers: max transforms reached\n",
            "[09:14:04] Tautomer enumeration stopped at 261 tautomers: max transforms reached\n",
            "[09:14:05] Tautomer enumeration stopped at 260 tautomers: max transforms reached\n",
            "[09:14:05] Tautomer enumeration stopped at 204 tautomers: max transforms reached\n",
            "[09:14:05] Tautomer enumeration stopped at 262 tautomers: max transforms reached\n",
            "[09:14:06] Tautomer enumeration stopped at 241 tautomers: max transforms reached\n",
            "[09:14:07] Tautomer enumeration stopped at 244 tautomers: max transforms reached\n",
            "[09:14:10] Tautomer enumeration stopped at 950 tautomers: max transforms reached\n",
            "[09:14:11] Tautomer enumeration stopped at 206 tautomers: max transforms reached\n",
            "[09:14:13] Can't kekulize mol.  Unkekulized atoms: 3 23\n",
            "[09:14:13] Can't kekulize mol.  Unkekulized atoms: 3 23\n",
            "[09:14:13] Can't kekulize mol.  Unkekulized atoms: 3 23\n",
            "[09:14:13] Can't kekulize mol.  Unkekulized atoms: 3 23\n",
            "[09:14:20] Tautomer enumeration stopped at 188 tautomers: max transforms reached\n",
            "[09:14:48] Tautomer enumeration stopped at 312 tautomers: max transforms reached\n",
            "[09:14:50] Tautomer enumeration stopped at 312 tautomers: max transforms reached\n",
            "[09:14:52] Tautomer enumeration stopped at 631 tautomers: max transforms reached\n",
            "[09:14:55] Tautomer enumeration stopped at 312 tautomers: max transforms reached\n",
            "[09:15:01] Tautomer enumeration stopped at 100 tautomers: max transforms reached\n"
          ]
        }
      ],
      "source": [
        "tautomer_enumerator = rdMolStandardize.TautomerEnumerator()\n",
        "df['Mol'] = df['Mol'].apply(lambda mol: tautomer_enumerator.Canonicalize(mol))"
      ]
    },
    {
      "cell_type": "markdown",
      "metadata": {
        "id": "O0PwdW4X6_Oa"
      },
      "source": [
        "### ***6. Remoção de moléculas não Kekulizadas***"
      ]
    },
    {
      "cell_type": "code",
      "execution_count": 9,
      "metadata": {
        "id": "oSSQODtX6_dX"
      },
      "outputs": [],
      "source": [
        "def mol_valido(mol):\n",
        "    try:\n",
        "        Chem.Kekulize(mol, clearAromaticFlags=True)\n",
        "        return True\n",
        "    except:\n",
        "        return False\n",
        "\n",
        "df['Kekuliza'] = df['Mol'].apply(mol_valido)\n",
        "df = df[df['Kekuliza']].reset_index(drop=True)\n",
        "df.drop(columns=['Kekuliza'], inplace=True)"
      ]
    },
    {
      "cell_type": "markdown",
      "metadata": {
        "id": "QlRwMw9OzAU6"
      },
      "source": [
        "### ***7. Remoção de duplicatas***"
      ]
    },
    {
      "cell_type": "code",
      "execution_count": 10,
      "metadata": {
        "id": "IdYU3F2ezBAg"
      },
      "outputs": [],
      "source": [
        "df['Canonical_SMILES'] = df['Mol'].apply(lambda mol: Chem.MolToSmiles(mol))\n",
        "df = df.drop_duplicates(subset='Canonical_SMILES').reset_index(drop=True)"
      ]
    },
    {
      "cell_type": "markdown",
      "metadata": {
        "id": "Od6pROcWu6ql"
      },
      "source": [
        "### ***8. Conversão de IC50 em pIC50***"
      ]
    },
    {
      "cell_type": "code",
      "execution_count": 11,
      "metadata": {
        "id": "6FJmJ4Kmu62B"
      },
      "outputs": [],
      "source": [
        "# IC50 deve estar em nM (nanomolar)\n",
        "def converter_para_pIC50(ic50_nM):\n",
        "    try:\n",
        "        if ic50_nM > 0:\n",
        "            return -np.log10(ic50_nM * 1e-9)\n",
        "        else:\n",
        "            return np.nan\n",
        "    except:\n",
        "        return np.nan\n",
        "\n",
        "df['pIC50'] = df['IC50_nM'].apply(converter_para_pIC50)\n",
        "df = df[df['pIC50'].notnull()].reset_index(drop=True)\n"
      ]
    },
    {
      "cell_type": "markdown",
      "metadata": {
        "id": "QUtNjXY6vE5Q"
      },
      "source": [
        "### ***9. Categorização de valores de pIC50***"
      ]
    },
    {
      "cell_type": "code",
      "execution_count": 12,
      "metadata": {
        "id": "gIedGD_4vFUs"
      },
      "outputs": [],
      "source": [
        "# Definir limiar (pIC50 >= 6.0 → ativo (1); senão → inativo (0))\n",
        "limiar = 6.0\n",
        "\n",
        "# Binarizar em 0 e 1\n",
        "df['Classe'] = df['pIC50'].apply(lambda x: 1 if x >= limiar else 0)"
      ]
    },
    {
      "cell_type": "markdown",
      "metadata": {
        "id": "AHdqG-Qvzs-K"
      },
      "source": [
        "### ***10. Dados pré-processados***"
      ]
    },
    {
      "cell_type": "code",
      "execution_count": 13,
      "metadata": {
        "colab": {
          "base_uri": "https://localhost:8080/",
          "height": 206
        },
        "id": "MnypI4cWxMxG",
        "outputId": "fd3ffc87-a982-4881-b8ce-924fd8e7eaf4"
      },
      "outputs": [
        {
          "output_type": "display_data",
          "data": {
            "text/plain": [
              "                                    Canonical_SMILES  IC50_nM     pIC50  \\\n",
              "0  C=C1C=C(C)NC1=CC1=C(O)NC2=NC=NC(NC3=CC=C(F)C(C...    300.0  6.522879   \n",
              "1  C=C1C=C(C(=O)N2CCOCC2)NC1=CC1=C(O)NC2=NC=NC(NC...    400.0  6.397940   \n",
              "2  C=C1C=C(C(=O)N2CCOCC2)NC1=CC1=C(O)NC2=NC=NC(NC...    100.0  7.000000   \n",
              "3  C=C1C=C(C(=O)N2CCOCC2)NC1=CC1=C(O)NC2=NC=NC(NC...   5000.0  5.301030   \n",
              "4  C=C1C=C(C(=O)NCCN2CCOCC2)NC1=CC1=C(O)NC2=NC=NC...    100.0  7.000000   \n",
              "\n",
              "   Classe  \n",
              "0       1  \n",
              "1       1  \n",
              "2       1  \n",
              "3       0  \n",
              "4       1  "
            ],
            "text/html": [
              "\n",
              "  <div id=\"df-f0f7d581-d320-4c7c-bf0c-0fa81242a176\" class=\"colab-df-container\">\n",
              "    <div>\n",
              "<style scoped>\n",
              "    .dataframe tbody tr th:only-of-type {\n",
              "        vertical-align: middle;\n",
              "    }\n",
              "\n",
              "    .dataframe tbody tr th {\n",
              "        vertical-align: top;\n",
              "    }\n",
              "\n",
              "    .dataframe thead th {\n",
              "        text-align: right;\n",
              "    }\n",
              "</style>\n",
              "<table border=\"1\" class=\"dataframe\">\n",
              "  <thead>\n",
              "    <tr style=\"text-align: right;\">\n",
              "      <th></th>\n",
              "      <th>Canonical_SMILES</th>\n",
              "      <th>IC50_nM</th>\n",
              "      <th>pIC50</th>\n",
              "      <th>Classe</th>\n",
              "    </tr>\n",
              "  </thead>\n",
              "  <tbody>\n",
              "    <tr>\n",
              "      <th>0</th>\n",
              "      <td>C=C1C=C(C)NC1=CC1=C(O)NC2=NC=NC(NC3=CC=C(F)C(C...</td>\n",
              "      <td>300.0</td>\n",
              "      <td>6.522879</td>\n",
              "      <td>1</td>\n",
              "    </tr>\n",
              "    <tr>\n",
              "      <th>1</th>\n",
              "      <td>C=C1C=C(C(=O)N2CCOCC2)NC1=CC1=C(O)NC2=NC=NC(NC...</td>\n",
              "      <td>400.0</td>\n",
              "      <td>6.397940</td>\n",
              "      <td>1</td>\n",
              "    </tr>\n",
              "    <tr>\n",
              "      <th>2</th>\n",
              "      <td>C=C1C=C(C(=O)N2CCOCC2)NC1=CC1=C(O)NC2=NC=NC(NC...</td>\n",
              "      <td>100.0</td>\n",
              "      <td>7.000000</td>\n",
              "      <td>1</td>\n",
              "    </tr>\n",
              "    <tr>\n",
              "      <th>3</th>\n",
              "      <td>C=C1C=C(C(=O)N2CCOCC2)NC1=CC1=C(O)NC2=NC=NC(NC...</td>\n",
              "      <td>5000.0</td>\n",
              "      <td>5.301030</td>\n",
              "      <td>0</td>\n",
              "    </tr>\n",
              "    <tr>\n",
              "      <th>4</th>\n",
              "      <td>C=C1C=C(C(=O)NCCN2CCOCC2)NC1=CC1=C(O)NC2=NC=NC...</td>\n",
              "      <td>100.0</td>\n",
              "      <td>7.000000</td>\n",
              "      <td>1</td>\n",
              "    </tr>\n",
              "  </tbody>\n",
              "</table>\n",
              "</div>\n",
              "    <div class=\"colab-df-buttons\">\n",
              "\n",
              "  <div class=\"colab-df-container\">\n",
              "    <button class=\"colab-df-convert\" onclick=\"convertToInteractive('df-f0f7d581-d320-4c7c-bf0c-0fa81242a176')\"\n",
              "            title=\"Convert this dataframe to an interactive table.\"\n",
              "            style=\"display:none;\">\n",
              "\n",
              "  <svg xmlns=\"http://www.w3.org/2000/svg\" height=\"24px\" viewBox=\"0 -960 960 960\">\n",
              "    <path d=\"M120-120v-720h720v720H120Zm60-500h600v-160H180v160Zm220 220h160v-160H400v160Zm0 220h160v-160H400v160ZM180-400h160v-160H180v160Zm440 0h160v-160H620v160ZM180-180h160v-160H180v160Zm440 0h160v-160H620v160Z\"/>\n",
              "  </svg>\n",
              "    </button>\n",
              "\n",
              "  <style>\n",
              "    .colab-df-container {\n",
              "      display:flex;\n",
              "      gap: 12px;\n",
              "    }\n",
              "\n",
              "    .colab-df-convert {\n",
              "      background-color: #E8F0FE;\n",
              "      border: none;\n",
              "      border-radius: 50%;\n",
              "      cursor: pointer;\n",
              "      display: none;\n",
              "      fill: #1967D2;\n",
              "      height: 32px;\n",
              "      padding: 0 0 0 0;\n",
              "      width: 32px;\n",
              "    }\n",
              "\n",
              "    .colab-df-convert:hover {\n",
              "      background-color: #E2EBFA;\n",
              "      box-shadow: 0px 1px 2px rgba(60, 64, 67, 0.3), 0px 1px 3px 1px rgba(60, 64, 67, 0.15);\n",
              "      fill: #174EA6;\n",
              "    }\n",
              "\n",
              "    .colab-df-buttons div {\n",
              "      margin-bottom: 4px;\n",
              "    }\n",
              "\n",
              "    [theme=dark] .colab-df-convert {\n",
              "      background-color: #3B4455;\n",
              "      fill: #D2E3FC;\n",
              "    }\n",
              "\n",
              "    [theme=dark] .colab-df-convert:hover {\n",
              "      background-color: #434B5C;\n",
              "      box-shadow: 0px 1px 3px 1px rgba(0, 0, 0, 0.15);\n",
              "      filter: drop-shadow(0px 1px 2px rgba(0, 0, 0, 0.3));\n",
              "      fill: #FFFFFF;\n",
              "    }\n",
              "  </style>\n",
              "\n",
              "    <script>\n",
              "      const buttonEl =\n",
              "        document.querySelector('#df-f0f7d581-d320-4c7c-bf0c-0fa81242a176 button.colab-df-convert');\n",
              "      buttonEl.style.display =\n",
              "        google.colab.kernel.accessAllowed ? 'block' : 'none';\n",
              "\n",
              "      async function convertToInteractive(key) {\n",
              "        const element = document.querySelector('#df-f0f7d581-d320-4c7c-bf0c-0fa81242a176');\n",
              "        const dataTable =\n",
              "          await google.colab.kernel.invokeFunction('convertToInteractive',\n",
              "                                                    [key], {});\n",
              "        if (!dataTable) return;\n",
              "\n",
              "        const docLinkHtml = 'Like what you see? Visit the ' +\n",
              "          '<a target=\"_blank\" href=https://colab.research.google.com/notebooks/data_table.ipynb>data table notebook</a>'\n",
              "          + ' to learn more about interactive tables.';\n",
              "        element.innerHTML = '';\n",
              "        dataTable['output_type'] = 'display_data';\n",
              "        await google.colab.output.renderOutput(dataTable, element);\n",
              "        const docLink = document.createElement('div');\n",
              "        docLink.innerHTML = docLinkHtml;\n",
              "        element.appendChild(docLink);\n",
              "      }\n",
              "    </script>\n",
              "  </div>\n",
              "\n",
              "\n",
              "    <div id=\"df-fc111c83-cda4-4eb3-a69e-fa13e7ed8659\">\n",
              "      <button class=\"colab-df-quickchart\" onclick=\"quickchart('df-fc111c83-cda4-4eb3-a69e-fa13e7ed8659')\"\n",
              "                title=\"Suggest charts\"\n",
              "                style=\"display:none;\">\n",
              "\n",
              "<svg xmlns=\"http://www.w3.org/2000/svg\" height=\"24px\"viewBox=\"0 0 24 24\"\n",
              "     width=\"24px\">\n",
              "    <g>\n",
              "        <path d=\"M19 3H5c-1.1 0-2 .9-2 2v14c0 1.1.9 2 2 2h14c1.1 0 2-.9 2-2V5c0-1.1-.9-2-2-2zM9 17H7v-7h2v7zm4 0h-2V7h2v10zm4 0h-2v-4h2v4z\"/>\n",
              "    </g>\n",
              "</svg>\n",
              "      </button>\n",
              "\n",
              "<style>\n",
              "  .colab-df-quickchart {\n",
              "      --bg-color: #E8F0FE;\n",
              "      --fill-color: #1967D2;\n",
              "      --hover-bg-color: #E2EBFA;\n",
              "      --hover-fill-color: #174EA6;\n",
              "      --disabled-fill-color: #AAA;\n",
              "      --disabled-bg-color: #DDD;\n",
              "  }\n",
              "\n",
              "  [theme=dark] .colab-df-quickchart {\n",
              "      --bg-color: #3B4455;\n",
              "      --fill-color: #D2E3FC;\n",
              "      --hover-bg-color: #434B5C;\n",
              "      --hover-fill-color: #FFFFFF;\n",
              "      --disabled-bg-color: #3B4455;\n",
              "      --disabled-fill-color: #666;\n",
              "  }\n",
              "\n",
              "  .colab-df-quickchart {\n",
              "    background-color: var(--bg-color);\n",
              "    border: none;\n",
              "    border-radius: 50%;\n",
              "    cursor: pointer;\n",
              "    display: none;\n",
              "    fill: var(--fill-color);\n",
              "    height: 32px;\n",
              "    padding: 0;\n",
              "    width: 32px;\n",
              "  }\n",
              "\n",
              "  .colab-df-quickchart:hover {\n",
              "    background-color: var(--hover-bg-color);\n",
              "    box-shadow: 0 1px 2px rgba(60, 64, 67, 0.3), 0 1px 3px 1px rgba(60, 64, 67, 0.15);\n",
              "    fill: var(--button-hover-fill-color);\n",
              "  }\n",
              "\n",
              "  .colab-df-quickchart-complete:disabled,\n",
              "  .colab-df-quickchart-complete:disabled:hover {\n",
              "    background-color: var(--disabled-bg-color);\n",
              "    fill: var(--disabled-fill-color);\n",
              "    box-shadow: none;\n",
              "  }\n",
              "\n",
              "  .colab-df-spinner {\n",
              "    border: 2px solid var(--fill-color);\n",
              "    border-color: transparent;\n",
              "    border-bottom-color: var(--fill-color);\n",
              "    animation:\n",
              "      spin 1s steps(1) infinite;\n",
              "  }\n",
              "\n",
              "  @keyframes spin {\n",
              "    0% {\n",
              "      border-color: transparent;\n",
              "      border-bottom-color: var(--fill-color);\n",
              "      border-left-color: var(--fill-color);\n",
              "    }\n",
              "    20% {\n",
              "      border-color: transparent;\n",
              "      border-left-color: var(--fill-color);\n",
              "      border-top-color: var(--fill-color);\n",
              "    }\n",
              "    30% {\n",
              "      border-color: transparent;\n",
              "      border-left-color: var(--fill-color);\n",
              "      border-top-color: var(--fill-color);\n",
              "      border-right-color: var(--fill-color);\n",
              "    }\n",
              "    40% {\n",
              "      border-color: transparent;\n",
              "      border-right-color: var(--fill-color);\n",
              "      border-top-color: var(--fill-color);\n",
              "    }\n",
              "    60% {\n",
              "      border-color: transparent;\n",
              "      border-right-color: var(--fill-color);\n",
              "    }\n",
              "    80% {\n",
              "      border-color: transparent;\n",
              "      border-right-color: var(--fill-color);\n",
              "      border-bottom-color: var(--fill-color);\n",
              "    }\n",
              "    90% {\n",
              "      border-color: transparent;\n",
              "      border-bottom-color: var(--fill-color);\n",
              "    }\n",
              "  }\n",
              "</style>\n",
              "\n",
              "      <script>\n",
              "        async function quickchart(key) {\n",
              "          const quickchartButtonEl =\n",
              "            document.querySelector('#' + key + ' button');\n",
              "          quickchartButtonEl.disabled = true;  // To prevent multiple clicks.\n",
              "          quickchartButtonEl.classList.add('colab-df-spinner');\n",
              "          try {\n",
              "            const charts = await google.colab.kernel.invokeFunction(\n",
              "                'suggestCharts', [key], {});\n",
              "          } catch (error) {\n",
              "            console.error('Error during call to suggestCharts:', error);\n",
              "          }\n",
              "          quickchartButtonEl.classList.remove('colab-df-spinner');\n",
              "          quickchartButtonEl.classList.add('colab-df-quickchart-complete');\n",
              "        }\n",
              "        (() => {\n",
              "          let quickchartButtonEl =\n",
              "            document.querySelector('#df-fc111c83-cda4-4eb3-a69e-fa13e7ed8659 button');\n",
              "          quickchartButtonEl.style.display =\n",
              "            google.colab.kernel.accessAllowed ? 'block' : 'none';\n",
              "        })();\n",
              "      </script>\n",
              "    </div>\n",
              "\n",
              "    </div>\n",
              "  </div>\n"
            ],
            "application/vnd.google.colaboratory.intrinsic+json": {
              "type": "dataframe",
              "summary": "{\n  \"name\": \"display(df_final\",\n  \"rows\": 5,\n  \"fields\": [\n    {\n      \"column\": \"Canonical_SMILES\",\n      \"properties\": {\n        \"dtype\": \"string\",\n        \"num_unique_values\": 5,\n        \"samples\": [\n          \"C=C1C=C(C(=O)N2CCOCC2)NC1=CC1=C(O)NC2=NC=NC(NC3=CC=C(F)C(Cl)=C3)=C21\",\n          \"C=C1C=C(C(=O)NCCN2CCOCC2)NC1=CC1=C(O)NC2=NC=NC(NC3=CC=C(F)C(Cl)=C3)=C21\",\n          \"C=C1C=C(C(=O)N2CCOCC2)NC1=CC1=C(O)NC2=NC=NC(NC3=CC=C4C(=C3)C=CN4CC3=CC=CC=C3)=C21\"\n        ],\n        \"semantic_type\": \"\",\n        \"description\": \"\"\n      }\n    },\n    {\n      \"column\": \"IC50_nM\",\n      \"properties\": {\n        \"dtype\": \"number\",\n        \"std\": 2139.3924371185385,\n        \"min\": 100.0,\n        \"max\": 5000.0,\n        \"num_unique_values\": 4,\n        \"samples\": [\n          400.0,\n          5000.0,\n          300.0\n        ],\n        \"semantic_type\": \"\",\n        \"description\": \"\"\n      }\n    },\n    {\n      \"column\": \"pIC50\",\n      \"properties\": {\n        \"dtype\": \"number\",\n        \"std\": 0.6951609753314304,\n        \"min\": 5.301029995663981,\n        \"max\": 7.0,\n        \"num_unique_values\": 4,\n        \"samples\": [\n          6.3979400086720375,\n          5.301029995663981,\n          6.522878745280337\n        ],\n        \"semantic_type\": \"\",\n        \"description\": \"\"\n      }\n    },\n    {\n      \"column\": \"Classe\",\n      \"properties\": {\n        \"dtype\": \"number\",\n        \"std\": 0,\n        \"min\": 0,\n        \"max\": 1,\n        \"num_unique_values\": 2,\n        \"samples\": [\n          0,\n          1\n        ],\n        \"semantic_type\": \"\",\n        \"description\": \"\"\n      }\n    }\n  ]\n}"
            }
          },
          "metadata": {}
        }
      ],
      "source": [
        "df['Name'] = df.index.astype(str)\n",
        "df_final = df[['Canonical_SMILES', 'IC50_nM', 'pIC50', 'Classe']]\n",
        "display(df_final.head())"
      ]
    },
    {
      "cell_type": "markdown",
      "source": [
        "### ***2.2. Cálculo de descritores e Fingerprints***"
      ],
      "metadata": {
        "id": "xW0Mq9oZWR5_"
      }
    },
    {
      "cell_type": "markdown",
      "source": [
        "## **Pipeline**\n",
        "1. Seleccionar descritores de Lipinski e Fingerprints de PubChem\n",
        "2. Calcular descritores de Lipinski e PubChemFP para todos SMILES\n",
        "3. Concatenar com dados pré-processados\n",
        "4. Salvar os dados para EDA"
      ],
      "metadata": {
        "id": "k2Czq1WjcONu"
      }
    },
    {
      "cell_type": "markdown",
      "source": [
        "### ***1. Seleccionar descritores de Lipinski e Fingerprints de PubChem***"
      ],
      "metadata": {
        "id": "RQlzbd8qK6Vv"
      }
    },
    {
      "cell_type": "code",
      "source": [
        "def calcular_descritores_fp(smiles):\n",
        "    mol = Chem.MolFromSmiles(smiles)\n",
        "\n",
        "    # === Descritores de Lipinski ===\n",
        "    mol_logp = Descriptors.MolLogP(mol)\n",
        "    mol_wt = Descriptors.MolWt(mol)\n",
        "    hbd = Lipinski.NumHDonors(mol)\n",
        "    hba = Lipinski.NumHAcceptors(mol)\n",
        "\n",
        "    # === Fingerprint tipo PubChem ===\n",
        "    fp = Chem.RDKFingerprint(mol, fpSize=881)\n",
        "    fp_bits = list(fp)\n",
        "\n",
        "    return [mol_logp, mol_wt, hbd, hba] + fp_bits"
      ],
      "metadata": {
        "id": "-pnlOmAcAp5c"
      },
      "execution_count": 14,
      "outputs": []
    },
    {
      "cell_type": "markdown",
      "source": [
        "### ***2. Calcular descritores de Lipinski e PubChemFP para todos SMILES***"
      ],
      "metadata": {
        "id": "TrTi3fN-MaEl"
      }
    },
    {
      "cell_type": "code",
      "source": [
        "# Nomes das colunas\n",
        "colunas_descritores = ['MolLogP', 'MolWt', 'nHBDon', 'nHBAcc']\n",
        "colunas_fingerprints = [f'PubChemFP_{i}' for i in range(881)]\n",
        "\n",
        "# Calcular para todos os SMILES\n",
        "dados = df['SMILES'].apply(calcular_descritores_fp)\n",
        "\n",
        "df_descritores_fp = pd.DataFrame(dados.tolist(), columns=colunas_descritores + colunas_fingerprints)"
      ],
      "metadata": {
        "id": "ELSOMaKkn5oS"
      },
      "execution_count": 15,
      "outputs": []
    },
    {
      "cell_type": "markdown",
      "source": [
        "### ***3. Concatenar com dados pré-processados***"
      ],
      "metadata": {
        "id": "x0pyVMDpMoZy"
      }
    },
    {
      "cell_type": "code",
      "source": [
        "# Juntar com informações originais\n",
        "df_final = pd.concat([df.reset_index(drop=True), df_descritores_fp.reset_index(drop=True)], axis=1)\n",
        "\n",
        "# Ver resultado\n",
        "print(df_final.shape)\n",
        "df_final.head()"
      ],
      "metadata": {
        "colab": {
          "base_uri": "https://localhost:8080/",
          "height": 446
        },
        "id": "H91M2PXAMphQ",
        "outputId": "23c3d2cc-ea22-4af2-dcb6-14875529559a"
      },
      "execution_count": 16,
      "outputs": [
        {
          "output_type": "stream",
          "name": "stdout",
          "text": [
            "(2694, 893)\n"
          ]
        },
        {
          "output_type": "execute_result",
          "data": {
            "text/plain": [
              "     ChEMBL_ID                                             SMILES  IC50_nM  \\\n",
              "0  CHEMBL68920  Cc1cc(C)c(/C=C2\\C(=O)Nc3ncnc(Nc4ccc(F)c(Cl)c4)...    300.0   \n",
              "1  CHEMBL69960  Cc1cc(C(=O)N2CCOCC2)[nH]c1/C=C1\\C(=O)Nc2ncnc(N...    400.0   \n",
              "2  CHEMBL67057  Cc1cc(C(=O)N2CCOCC2)[nH]c1/C=C1\\C(=O)Nc2ncnc(N...    100.0   \n",
              "3  CHEMBL65848  Cc1cc(C(=O)N2CCOCC2)[nH]c1/C=C1\\C(=O)Nc2ncnc(N...   5000.0   \n",
              "4  CHEMBL69629  Cc1cc(C(=O)NCCN2CCOCC2)[nH]c1/C=C1\\C(=O)Nc2ncn...    100.0   \n",
              "\n",
              "                                                Mol  \\\n",
              "0  <rdkit.Chem.rdchem.Mol object at 0x7b08b8c7b5a0>   \n",
              "1  <rdkit.Chem.rdchem.Mol object at 0x7b08b8c7b8b0>   \n",
              "2  <rdkit.Chem.rdchem.Mol object at 0x7b08b8c7ac70>   \n",
              "3  <rdkit.Chem.rdchem.Mol object at 0x7b08b8f46c00>   \n",
              "4  <rdkit.Chem.rdchem.Mol object at 0x7b08b8f46b90>   \n",
              "\n",
              "                                    Canonical_SMILES     pIC50  Classe Name  \\\n",
              "0  C=C1C=C(C)NC1=CC1=C(O)NC2=NC=NC(NC3=CC=C(F)C(C...  6.522879       1    0   \n",
              "1  C=C1C=C(C(=O)N2CCOCC2)NC1=CC1=C(O)NC2=NC=NC(NC...  6.397940       1    1   \n",
              "2  C=C1C=C(C(=O)N2CCOCC2)NC1=CC1=C(O)NC2=NC=NC(NC...  7.000000       1    2   \n",
              "3  C=C1C=C(C(=O)N2CCOCC2)NC1=CC1=C(O)NC2=NC=NC(NC...  5.301030       0    3   \n",
              "4  C=C1C=C(C(=O)NCCN2CCOCC2)NC1=CC1=C(O)NC2=NC=NC...  7.000000       1    4   \n",
              "\n",
              "   MolLogP    MolWt  ...  PubChemFP_871  PubChemFP_872  PubChemFP_873  \\\n",
              "0  4.45034  383.814  ...              1              1              1   \n",
              "1  3.61432  482.903  ...              1              1              1   \n",
              "2  4.82482  559.630  ...              1              1              1   \n",
              "3  3.31052  470.533  ...              1              1              1   \n",
              "4  3.20392  525.972  ...              1              1              1   \n",
              "\n",
              "   PubChemFP_874  PubChemFP_875  PubChemFP_876  PubChemFP_877  PubChemFP_878  \\\n",
              "0              0              1              1              1              1   \n",
              "1              0              1              1              1              1   \n",
              "2              1              1              1              1              1   \n",
              "3              0              1              1              1              1   \n",
              "4              0              1              1              1              1   \n",
              "\n",
              "   PubChemFP_879  PubChemFP_880  \n",
              "0              1              1  \n",
              "1              1              1  \n",
              "2              1              1  \n",
              "3              1              1  \n",
              "4              1              1  \n",
              "\n",
              "[5 rows x 893 columns]"
            ],
            "text/html": [
              "\n",
              "  <div id=\"df-52f0cc8a-fad4-47b3-bcb8-63dff8e705f7\" class=\"colab-df-container\">\n",
              "    <div>\n",
              "<style scoped>\n",
              "    .dataframe tbody tr th:only-of-type {\n",
              "        vertical-align: middle;\n",
              "    }\n",
              "\n",
              "    .dataframe tbody tr th {\n",
              "        vertical-align: top;\n",
              "    }\n",
              "\n",
              "    .dataframe thead th {\n",
              "        text-align: right;\n",
              "    }\n",
              "</style>\n",
              "<table border=\"1\" class=\"dataframe\">\n",
              "  <thead>\n",
              "    <tr style=\"text-align: right;\">\n",
              "      <th></th>\n",
              "      <th>ChEMBL_ID</th>\n",
              "      <th>SMILES</th>\n",
              "      <th>IC50_nM</th>\n",
              "      <th>Mol</th>\n",
              "      <th>Canonical_SMILES</th>\n",
              "      <th>pIC50</th>\n",
              "      <th>Classe</th>\n",
              "      <th>Name</th>\n",
              "      <th>MolLogP</th>\n",
              "      <th>MolWt</th>\n",
              "      <th>...</th>\n",
              "      <th>PubChemFP_871</th>\n",
              "      <th>PubChemFP_872</th>\n",
              "      <th>PubChemFP_873</th>\n",
              "      <th>PubChemFP_874</th>\n",
              "      <th>PubChemFP_875</th>\n",
              "      <th>PubChemFP_876</th>\n",
              "      <th>PubChemFP_877</th>\n",
              "      <th>PubChemFP_878</th>\n",
              "      <th>PubChemFP_879</th>\n",
              "      <th>PubChemFP_880</th>\n",
              "    </tr>\n",
              "  </thead>\n",
              "  <tbody>\n",
              "    <tr>\n",
              "      <th>0</th>\n",
              "      <td>CHEMBL68920</td>\n",
              "      <td>Cc1cc(C)c(/C=C2\\C(=O)Nc3ncnc(Nc4ccc(F)c(Cl)c4)...</td>\n",
              "      <td>300.0</td>\n",
              "      <td>&lt;rdkit.Chem.rdchem.Mol object at 0x7b08b8c7b5a0&gt;</td>\n",
              "      <td>C=C1C=C(C)NC1=CC1=C(O)NC2=NC=NC(NC3=CC=C(F)C(C...</td>\n",
              "      <td>6.522879</td>\n",
              "      <td>1</td>\n",
              "      <td>0</td>\n",
              "      <td>4.45034</td>\n",
              "      <td>383.814</td>\n",
              "      <td>...</td>\n",
              "      <td>1</td>\n",
              "      <td>1</td>\n",
              "      <td>1</td>\n",
              "      <td>0</td>\n",
              "      <td>1</td>\n",
              "      <td>1</td>\n",
              "      <td>1</td>\n",
              "      <td>1</td>\n",
              "      <td>1</td>\n",
              "      <td>1</td>\n",
              "    </tr>\n",
              "    <tr>\n",
              "      <th>1</th>\n",
              "      <td>CHEMBL69960</td>\n",
              "      <td>Cc1cc(C(=O)N2CCOCC2)[nH]c1/C=C1\\C(=O)Nc2ncnc(N...</td>\n",
              "      <td>400.0</td>\n",
              "      <td>&lt;rdkit.Chem.rdchem.Mol object at 0x7b08b8c7b8b0&gt;</td>\n",
              "      <td>C=C1C=C(C(=O)N2CCOCC2)NC1=CC1=C(O)NC2=NC=NC(NC...</td>\n",
              "      <td>6.397940</td>\n",
              "      <td>1</td>\n",
              "      <td>1</td>\n",
              "      <td>3.61432</td>\n",
              "      <td>482.903</td>\n",
              "      <td>...</td>\n",
              "      <td>1</td>\n",
              "      <td>1</td>\n",
              "      <td>1</td>\n",
              "      <td>0</td>\n",
              "      <td>1</td>\n",
              "      <td>1</td>\n",
              "      <td>1</td>\n",
              "      <td>1</td>\n",
              "      <td>1</td>\n",
              "      <td>1</td>\n",
              "    </tr>\n",
              "    <tr>\n",
              "      <th>2</th>\n",
              "      <td>CHEMBL67057</td>\n",
              "      <td>Cc1cc(C(=O)N2CCOCC2)[nH]c1/C=C1\\C(=O)Nc2ncnc(N...</td>\n",
              "      <td>100.0</td>\n",
              "      <td>&lt;rdkit.Chem.rdchem.Mol object at 0x7b08b8c7ac70&gt;</td>\n",
              "      <td>C=C1C=C(C(=O)N2CCOCC2)NC1=CC1=C(O)NC2=NC=NC(NC...</td>\n",
              "      <td>7.000000</td>\n",
              "      <td>1</td>\n",
              "      <td>2</td>\n",
              "      <td>4.82482</td>\n",
              "      <td>559.630</td>\n",
              "      <td>...</td>\n",
              "      <td>1</td>\n",
              "      <td>1</td>\n",
              "      <td>1</td>\n",
              "      <td>1</td>\n",
              "      <td>1</td>\n",
              "      <td>1</td>\n",
              "      <td>1</td>\n",
              "      <td>1</td>\n",
              "      <td>1</td>\n",
              "      <td>1</td>\n",
              "    </tr>\n",
              "    <tr>\n",
              "      <th>3</th>\n",
              "      <td>CHEMBL65848</td>\n",
              "      <td>Cc1cc(C(=O)N2CCOCC2)[nH]c1/C=C1\\C(=O)Nc2ncnc(N...</td>\n",
              "      <td>5000.0</td>\n",
              "      <td>&lt;rdkit.Chem.rdchem.Mol object at 0x7b08b8f46c00&gt;</td>\n",
              "      <td>C=C1C=C(C(=O)N2CCOCC2)NC1=CC1=C(O)NC2=NC=NC(NC...</td>\n",
              "      <td>5.301030</td>\n",
              "      <td>0</td>\n",
              "      <td>3</td>\n",
              "      <td>3.31052</td>\n",
              "      <td>470.533</td>\n",
              "      <td>...</td>\n",
              "      <td>1</td>\n",
              "      <td>1</td>\n",
              "      <td>1</td>\n",
              "      <td>0</td>\n",
              "      <td>1</td>\n",
              "      <td>1</td>\n",
              "      <td>1</td>\n",
              "      <td>1</td>\n",
              "      <td>1</td>\n",
              "      <td>1</td>\n",
              "    </tr>\n",
              "    <tr>\n",
              "      <th>4</th>\n",
              "      <td>CHEMBL69629</td>\n",
              "      <td>Cc1cc(C(=O)NCCN2CCOCC2)[nH]c1/C=C1\\C(=O)Nc2ncn...</td>\n",
              "      <td>100.0</td>\n",
              "      <td>&lt;rdkit.Chem.rdchem.Mol object at 0x7b08b8f46b90&gt;</td>\n",
              "      <td>C=C1C=C(C(=O)NCCN2CCOCC2)NC1=CC1=C(O)NC2=NC=NC...</td>\n",
              "      <td>7.000000</td>\n",
              "      <td>1</td>\n",
              "      <td>4</td>\n",
              "      <td>3.20392</td>\n",
              "      <td>525.972</td>\n",
              "      <td>...</td>\n",
              "      <td>1</td>\n",
              "      <td>1</td>\n",
              "      <td>1</td>\n",
              "      <td>0</td>\n",
              "      <td>1</td>\n",
              "      <td>1</td>\n",
              "      <td>1</td>\n",
              "      <td>1</td>\n",
              "      <td>1</td>\n",
              "      <td>1</td>\n",
              "    </tr>\n",
              "  </tbody>\n",
              "</table>\n",
              "<p>5 rows × 893 columns</p>\n",
              "</div>\n",
              "    <div class=\"colab-df-buttons\">\n",
              "\n",
              "  <div class=\"colab-df-container\">\n",
              "    <button class=\"colab-df-convert\" onclick=\"convertToInteractive('df-52f0cc8a-fad4-47b3-bcb8-63dff8e705f7')\"\n",
              "            title=\"Convert this dataframe to an interactive table.\"\n",
              "            style=\"display:none;\">\n",
              "\n",
              "  <svg xmlns=\"http://www.w3.org/2000/svg\" height=\"24px\" viewBox=\"0 -960 960 960\">\n",
              "    <path d=\"M120-120v-720h720v720H120Zm60-500h600v-160H180v160Zm220 220h160v-160H400v160Zm0 220h160v-160H400v160ZM180-400h160v-160H180v160Zm440 0h160v-160H620v160ZM180-180h160v-160H180v160Zm440 0h160v-160H620v160Z\"/>\n",
              "  </svg>\n",
              "    </button>\n",
              "\n",
              "  <style>\n",
              "    .colab-df-container {\n",
              "      display:flex;\n",
              "      gap: 12px;\n",
              "    }\n",
              "\n",
              "    .colab-df-convert {\n",
              "      background-color: #E8F0FE;\n",
              "      border: none;\n",
              "      border-radius: 50%;\n",
              "      cursor: pointer;\n",
              "      display: none;\n",
              "      fill: #1967D2;\n",
              "      height: 32px;\n",
              "      padding: 0 0 0 0;\n",
              "      width: 32px;\n",
              "    }\n",
              "\n",
              "    .colab-df-convert:hover {\n",
              "      background-color: #E2EBFA;\n",
              "      box-shadow: 0px 1px 2px rgba(60, 64, 67, 0.3), 0px 1px 3px 1px rgba(60, 64, 67, 0.15);\n",
              "      fill: #174EA6;\n",
              "    }\n",
              "\n",
              "    .colab-df-buttons div {\n",
              "      margin-bottom: 4px;\n",
              "    }\n",
              "\n",
              "    [theme=dark] .colab-df-convert {\n",
              "      background-color: #3B4455;\n",
              "      fill: #D2E3FC;\n",
              "    }\n",
              "\n",
              "    [theme=dark] .colab-df-convert:hover {\n",
              "      background-color: #434B5C;\n",
              "      box-shadow: 0px 1px 3px 1px rgba(0, 0, 0, 0.15);\n",
              "      filter: drop-shadow(0px 1px 2px rgba(0, 0, 0, 0.3));\n",
              "      fill: #FFFFFF;\n",
              "    }\n",
              "  </style>\n",
              "\n",
              "    <script>\n",
              "      const buttonEl =\n",
              "        document.querySelector('#df-52f0cc8a-fad4-47b3-bcb8-63dff8e705f7 button.colab-df-convert');\n",
              "      buttonEl.style.display =\n",
              "        google.colab.kernel.accessAllowed ? 'block' : 'none';\n",
              "\n",
              "      async function convertToInteractive(key) {\n",
              "        const element = document.querySelector('#df-52f0cc8a-fad4-47b3-bcb8-63dff8e705f7');\n",
              "        const dataTable =\n",
              "          await google.colab.kernel.invokeFunction('convertToInteractive',\n",
              "                                                    [key], {});\n",
              "        if (!dataTable) return;\n",
              "\n",
              "        const docLinkHtml = 'Like what you see? Visit the ' +\n",
              "          '<a target=\"_blank\" href=https://colab.research.google.com/notebooks/data_table.ipynb>data table notebook</a>'\n",
              "          + ' to learn more about interactive tables.';\n",
              "        element.innerHTML = '';\n",
              "        dataTable['output_type'] = 'display_data';\n",
              "        await google.colab.output.renderOutput(dataTable, element);\n",
              "        const docLink = document.createElement('div');\n",
              "        docLink.innerHTML = docLinkHtml;\n",
              "        element.appendChild(docLink);\n",
              "      }\n",
              "    </script>\n",
              "  </div>\n",
              "\n",
              "\n",
              "    <div id=\"df-21a3a01f-bd61-4b79-a184-6c2871402472\">\n",
              "      <button class=\"colab-df-quickchart\" onclick=\"quickchart('df-21a3a01f-bd61-4b79-a184-6c2871402472')\"\n",
              "                title=\"Suggest charts\"\n",
              "                style=\"display:none;\">\n",
              "\n",
              "<svg xmlns=\"http://www.w3.org/2000/svg\" height=\"24px\"viewBox=\"0 0 24 24\"\n",
              "     width=\"24px\">\n",
              "    <g>\n",
              "        <path d=\"M19 3H5c-1.1 0-2 .9-2 2v14c0 1.1.9 2 2 2h14c1.1 0 2-.9 2-2V5c0-1.1-.9-2-2-2zM9 17H7v-7h2v7zm4 0h-2V7h2v10zm4 0h-2v-4h2v4z\"/>\n",
              "    </g>\n",
              "</svg>\n",
              "      </button>\n",
              "\n",
              "<style>\n",
              "  .colab-df-quickchart {\n",
              "      --bg-color: #E8F0FE;\n",
              "      --fill-color: #1967D2;\n",
              "      --hover-bg-color: #E2EBFA;\n",
              "      --hover-fill-color: #174EA6;\n",
              "      --disabled-fill-color: #AAA;\n",
              "      --disabled-bg-color: #DDD;\n",
              "  }\n",
              "\n",
              "  [theme=dark] .colab-df-quickchart {\n",
              "      --bg-color: #3B4455;\n",
              "      --fill-color: #D2E3FC;\n",
              "      --hover-bg-color: #434B5C;\n",
              "      --hover-fill-color: #FFFFFF;\n",
              "      --disabled-bg-color: #3B4455;\n",
              "      --disabled-fill-color: #666;\n",
              "  }\n",
              "\n",
              "  .colab-df-quickchart {\n",
              "    background-color: var(--bg-color);\n",
              "    border: none;\n",
              "    border-radius: 50%;\n",
              "    cursor: pointer;\n",
              "    display: none;\n",
              "    fill: var(--fill-color);\n",
              "    height: 32px;\n",
              "    padding: 0;\n",
              "    width: 32px;\n",
              "  }\n",
              "\n",
              "  .colab-df-quickchart:hover {\n",
              "    background-color: var(--hover-bg-color);\n",
              "    box-shadow: 0 1px 2px rgba(60, 64, 67, 0.3), 0 1px 3px 1px rgba(60, 64, 67, 0.15);\n",
              "    fill: var(--button-hover-fill-color);\n",
              "  }\n",
              "\n",
              "  .colab-df-quickchart-complete:disabled,\n",
              "  .colab-df-quickchart-complete:disabled:hover {\n",
              "    background-color: var(--disabled-bg-color);\n",
              "    fill: var(--disabled-fill-color);\n",
              "    box-shadow: none;\n",
              "  }\n",
              "\n",
              "  .colab-df-spinner {\n",
              "    border: 2px solid var(--fill-color);\n",
              "    border-color: transparent;\n",
              "    border-bottom-color: var(--fill-color);\n",
              "    animation:\n",
              "      spin 1s steps(1) infinite;\n",
              "  }\n",
              "\n",
              "  @keyframes spin {\n",
              "    0% {\n",
              "      border-color: transparent;\n",
              "      border-bottom-color: var(--fill-color);\n",
              "      border-left-color: var(--fill-color);\n",
              "    }\n",
              "    20% {\n",
              "      border-color: transparent;\n",
              "      border-left-color: var(--fill-color);\n",
              "      border-top-color: var(--fill-color);\n",
              "    }\n",
              "    30% {\n",
              "      border-color: transparent;\n",
              "      border-left-color: var(--fill-color);\n",
              "      border-top-color: var(--fill-color);\n",
              "      border-right-color: var(--fill-color);\n",
              "    }\n",
              "    40% {\n",
              "      border-color: transparent;\n",
              "      border-right-color: var(--fill-color);\n",
              "      border-top-color: var(--fill-color);\n",
              "    }\n",
              "    60% {\n",
              "      border-color: transparent;\n",
              "      border-right-color: var(--fill-color);\n",
              "    }\n",
              "    80% {\n",
              "      border-color: transparent;\n",
              "      border-right-color: var(--fill-color);\n",
              "      border-bottom-color: var(--fill-color);\n",
              "    }\n",
              "    90% {\n",
              "      border-color: transparent;\n",
              "      border-bottom-color: var(--fill-color);\n",
              "    }\n",
              "  }\n",
              "</style>\n",
              "\n",
              "      <script>\n",
              "        async function quickchart(key) {\n",
              "          const quickchartButtonEl =\n",
              "            document.querySelector('#' + key + ' button');\n",
              "          quickchartButtonEl.disabled = true;  // To prevent multiple clicks.\n",
              "          quickchartButtonEl.classList.add('colab-df-spinner');\n",
              "          try {\n",
              "            const charts = await google.colab.kernel.invokeFunction(\n",
              "                'suggestCharts', [key], {});\n",
              "          } catch (error) {\n",
              "            console.error('Error during call to suggestCharts:', error);\n",
              "          }\n",
              "          quickchartButtonEl.classList.remove('colab-df-spinner');\n",
              "          quickchartButtonEl.classList.add('colab-df-quickchart-complete');\n",
              "        }\n",
              "        (() => {\n",
              "          let quickchartButtonEl =\n",
              "            document.querySelector('#df-21a3a01f-bd61-4b79-a184-6c2871402472 button');\n",
              "          quickchartButtonEl.style.display =\n",
              "            google.colab.kernel.accessAllowed ? 'block' : 'none';\n",
              "        })();\n",
              "      </script>\n",
              "    </div>\n",
              "\n",
              "    </div>\n",
              "  </div>\n"
            ],
            "application/vnd.google.colaboratory.intrinsic+json": {
              "type": "dataframe",
              "variable_name": "df_final"
            }
          },
          "metadata": {},
          "execution_count": 16
        }
      ]
    },
    {
      "cell_type": "markdown",
      "source": [
        "### ***4. Salvar os dados para EDA***"
      ],
      "metadata": {
        "id": "vpP5UDruhL-D"
      }
    },
    {
      "cell_type": "code",
      "source": [
        "df.to_csv('Dados para EDA.csv', index=False, encoding='utf-8')"
      ],
      "metadata": {
        "id": "BVCBcxYst0N5"
      },
      "execution_count": 17,
      "outputs": []
    },
    {
      "cell_type": "markdown",
      "source": [
        "### ***FIM***"
      ],
      "metadata": {
        "id": "e-Dy7CWoe1Fg"
      }
    },
    {
      "cell_type": "markdown",
      "source": [
        "### ***Referências***\n",
        "1. [Numpy](https://numpy.org/)\n",
        "\n",
        "2. [Pandas](https://pandas.pydata.org/)\n",
        "\n",
        "3. [RDKit](https://www.rdkit.org/)\n"
      ],
      "metadata": {
        "id": "mVpQy2p8fLGq"
      }
    }
  ],
  "metadata": {
    "colab": {
      "provenance": [],
      "mount_file_id": "1s649oXnOnageaQHO8oaD64FdBFm9jRG1",
      "authorship_tag": "ABX9TyPvmazbtMstaJRX1jcgz2W5",
      "include_colab_link": true
    },
    "kernelspec": {
      "display_name": "Python 3",
      "name": "python3"
    },
    "language_info": {
      "name": "python"
    }
  },
  "nbformat": 4,
  "nbformat_minor": 0
}